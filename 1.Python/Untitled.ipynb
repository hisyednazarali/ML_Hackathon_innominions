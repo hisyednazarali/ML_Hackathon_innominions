{
 "cells": [
  {
   "cell_type": "code",
   "execution_count": 2,
   "metadata": {},
   "outputs": [
    {
     "name": "stdout",
     "output_type": "stream",
     "text": [
      "Enter First Number 41\n",
      "Enter Second Number 88\n",
      "Second Number:  88\n"
     ]
    }
   ],
   "source": [
    "a = int(input(\"Enter First Number \"))\n",
    "b= int(input(\"Enter Second Number \"))\n",
    "if a>=b:\n",
    "    print(\"First Number is Maximum:\",a)\n",
    "    \n",
    "else:\n",
    "    print(\"Second Number: \",b)"
   ]
  },
  {
   "cell_type": "code",
   "execution_count": 32,
   "metadata": {},
   "outputs": [
    {
     "name": "stdout",
     "output_type": "stream",
     "text": [
      "Odd Number: 1\n",
      "Even Number: 2\n",
      "Odd Number: 3\n",
      "Even Number: 4\n",
      "Odd Number: 5\n",
      "Even Number: 6\n",
      "Odd Number: 7\n",
      "Even Number: 8\n",
      "Odd Number: 9\n",
      "Even Number: 10\n",
      "Odd Number: 11\n",
      "Even Number: 12\n",
      "Odd Number: 13\n",
      "Even Number: 14\n",
      "Odd Number: 15\n",
      "Even Number: 16\n",
      "Odd Number: 17\n",
      "Even Number: 18\n",
      "Odd Number: 19\n",
      "Even Number: 20\n",
      "Odd Number: 21\n",
      "Even Number: 22\n",
      "Odd Number: 23\n",
      "Even Number: 24\n",
      "Odd Number: 25\n"
     ]
    }
   ],
   "source": [
    "l = [1,2,3,4,5,6,7,8,9,10,11,12,13,14,15,16,17,18,19,20,21,22,23,24,25]\n",
    "\n",
    "for i in l:\n",
    "    if i%2==0:\n",
    "        print(\"Even Number:\",i)\n",
    "    else:\n",
    "        print(\"Odd Number:\",i)\n",
    "    "
   ]
  },
  {
   "cell_type": "code",
   "execution_count": 38,
   "metadata": {},
   "outputs": [],
   "source": [
    "num=11\n",
    "if num>1:\n",
    "    for i in range(2,int(num/2)+1):\n",
    "        if num%2==0:\n",
    "            print(num)\n",
    "         "
   ]
  },
  {
   "cell_type": "code",
   "execution_count": 45,
   "metadata": {},
   "outputs": [],
   "source": [
    "arr = []\n",
    "def _sum(arr):\n",
    "    sum=0\n",
    "    for i in arr:\n",
    "        sum = sum+i\n",
    "        return(sum)\n",
    "    "
   ]
  },
  {
   "cell_type": "code",
   "execution_count": 1,
   "metadata": {},
   "outputs": [
    {
     "name": "stdout",
     "output_type": "stream",
     "text": [
      "Hi\n",
      "hello\n"
     ]
    }
   ],
   "source": [
    "\n",
    "if 1<2:\n",
    "    print(\"Hi\")\n",
    "    print(\"hello\")"
   ]
  },
  {
   "cell_type": "code",
   "execution_count": 4,
   "metadata": {},
   "outputs": [
    {
     "name": "stdout",
     "output_type": "stream",
     "text": [
      "Enter your Name :gi\n"
     ]
    }
   ],
   "source": [
    "name = input(\"Enter your Name :\")\n",
    "if name == \"Nazar\":\n",
    "    print(\"Hello Siva Good Morning\")\n"
   ]
  },
  {
   "cell_type": "code",
   "execution_count": 2,
   "metadata": {},
   "outputs": [],
   "source": [
    "l=list()"
   ]
  },
  {
   "cell_type": "code",
   "execution_count": 3,
   "metadata": {},
   "outputs": [
    {
     "data": {
      "text/plain": [
       "list"
      ]
     },
     "execution_count": 3,
     "metadata": {},
     "output_type": "execute_result"
    }
   ],
   "source": [
    "type(l)"
   ]
  },
  {
   "cell_type": "code",
   "execution_count": 5,
   "metadata": {},
   "outputs": [
    {
     "data": {
      "text/plain": [
       "[1, 2.0, (1+3j), True, '2', 'New']"
      ]
     },
     "execution_count": 5,
     "metadata": {},
     "output_type": "execute_result"
    }
   ],
   "source": [
    "li = [1,2.0,(1+3j),True,'2',\"New\"]\n",
    "li"
   ]
  },
  {
   "cell_type": "code",
   "execution_count": 6,
   "metadata": {},
   "outputs": [],
   "source": [
    "lst = [[1,2],[3,4],1,3]"
   ]
  },
  {
   "cell_type": "code",
   "execution_count": 9,
   "metadata": {},
   "outputs": [
    {
     "data": {
      "text/plain": [
       "4"
      ]
     },
     "execution_count": 9,
     "metadata": {},
     "output_type": "execute_result"
    }
   ],
   "source": [
    "lst[1][1]"
   ]
  },
  {
   "cell_type": "code",
   "execution_count": null,
   "metadata": {},
   "outputs": [],
   "source": [
    "dict = {}\n",
    "type(dict)"
   ]
  },
  {
   "cell_type": "code",
   "execution_count": null,
   "metadata": {},
   "outputs": [],
   "source": [
    "dict = {\"Car1\":\"Audi\",\"Car2\":\"BMW\",\"Car3\":\"Mahindra\"}\n",
    "dict"
   ]
  },
  {
   "cell_type": "code",
   "execution_count": null,
   "metadata": {},
   "outputs": [],
   "source": [
    "x = int(input(\"Enter Number\"))\n",
    "if x%2 ==0:\n",
    "    print(\"Even Number \",x)\n",
    "else:\n",
    "    print(\"Odd Number\")"
   ]
  },
  {
   "cell_type": "code",
   "execution_count": 2,
   "metadata": {},
   "outputs": [
    {
     "name": "stdout",
     "output_type": "stream",
     "text": [
      "Enter first String:jaba\n",
      "Enter second String:zaea\n",
      "First String is less than String Second\n"
     ]
    }
   ],
   "source": [
    "s1 = input(\"Enter first String:\")\n",
    "s2 = input(\"Enter second String:\")\n",
    "\n",
    "if s1==s2:\n",
    "    print(\"Both Strings are Equal:\")\n",
    "elif s1<s2:\n",
    "    print(\"First String is less than String Second\")\n",
    "else:\n",
    "    print(\"First is Greate than Second\")"
   ]
  },
  {
   "cell_type": "code",
   "execution_count": 3,
   "metadata": {},
   "outputs": [
    {
     "name": "stdout",
     "output_type": "stream",
     "text": [
      "27\n"
     ]
    }
   ],
   "source": [
    "a = [2,3,4,5,6,7]\n",
    "sum =0\n",
    "for i in a:\n",
    "    sum = sum+i\n",
    "print(sum)"
   ]
  },
  {
   "cell_type": "code",
   "execution_count": 7,
   "metadata": {},
   "outputs": [
    {
     "name": "stdout",
     "output_type": "stream",
     "text": [
      "12\n",
      "52\n",
      "12 14 16 18 20 22 24 26 28 30 32 34 36 38 40 42 44 46 48 50 52 \n",
      " 672\n"
     ]
    }
   ],
   "source": [
    "a=int(input())\n",
    "b=int(input())\n",
    "s=0\n",
    "for i in range(a,b+1):\n",
    "        if i%2==0:\n",
    "            s=s+i\n",
    "            print(i,end=' ')\n",
    "print('\\n',s)"
   ]
  },
  {
   "cell_type": "code",
   "execution_count": null,
   "metadata": {},
   "outputs": [],
   "source": []
  }
 ],
 "metadata": {
  "kernelspec": {
   "display_name": "Python 3",
   "language": "python",
   "name": "python3"
  },
  "language_info": {
   "codemirror_mode": {
    "name": "ipython",
    "version": 3
   },
   "file_extension": ".py",
   "mimetype": "text/x-python",
   "name": "python",
   "nbconvert_exporter": "python",
   "pygments_lexer": "ipython3",
   "version": "3.7.6"
  }
 },
 "nbformat": 4,
 "nbformat_minor": 4
}
