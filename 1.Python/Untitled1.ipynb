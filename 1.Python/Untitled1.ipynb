{
 "cells": [
  {
   "cell_type": "code",
   "execution_count": 1,
   "metadata": {},
   "outputs": [
    {
     "name": "stdout",
     "output_type": "stream",
     "text": [
      "Enter String: hello\n",
      "olleh\n",
      "hello Not Pallindrome\n"
     ]
    }
   ],
   "source": [
    "string = input(\"Enter String: \")\n",
    "\n",
    "reverse = str(string)[::-1]\n",
    "print(reverse)\n",
    "if reverse==string:\n",
    "    print(string,\"Pallindrome String \")\n",
    "else:\n",
    "    print(string,\"Not Pallindrome\")"
   ]
  },
  {
   "cell_type": "code",
   "execution_count": 2,
   "metadata": {},
   "outputs": [
    {
     "data": {
      "text/plain": [
       "['Red', 'Black']"
      ]
     },
     "execution_count": 2,
     "metadata": {},
     "output_type": "execute_result"
    }
   ],
   "source": [
    "color_list = [\"Red\",\"Green\",\"White\" ,\"Black\"]\n",
    "color_list[0:4:3]"
   ]
  },
  {
   "cell_type": "code",
   "execution_count": 3,
   "metadata": {},
   "outputs": [
    {
     "name": "stdout",
     "output_type": "stream",
     "text": [
      "11/12/2014\n"
     ]
    }
   ],
   "source": [
    "exam_st_date = (11,12,2014)\n",
    "print(\"%i/%i/%i\" %exam_st_date)"
   ]
  },
  {
   "cell_type": "code",
   "execution_count": 4,
   "metadata": {},
   "outputs": [
    {
     "name": "stdout",
     "output_type": "stream",
     "text": [
      "First Number: 12\n",
      "Second Number: 41\n",
      "Third Number: 52\n",
      "N3 52\n"
     ]
    }
   ],
   "source": [
    "n1 = int(input(\"First Number: \"))\n",
    "n2 = int(input(\"Second Number: \"))\n",
    "n3 = int(input(\"Third Number: \"))\n",
    "\n",
    "if n1>n2 and n1>n3:\n",
    "    print(\"N1\",n1)\n",
    "elif n2>n3:\n",
    "    print(\"N2\",n2)\n",
    "else:\n",
    "    print(\"N3\",n3)\n"
   ]
  },
  {
   "cell_type": "code",
   "execution_count": 5,
   "metadata": {},
   "outputs": [
    {
     "name": "stdout",
     "output_type": "stream",
     "text": [
      "First Number: 44\n",
      "Second Number: 44\n",
      "Third Number: 44\n",
      "N3  44\n"
     ]
    }
   ],
   "source": [
    "n1 = int(input(\"First Number: \"))\n",
    "n2 = int(input(\"Second Number: \"))\n",
    "n3 = int(input(\"Third Number: \"))\n",
    "\n",
    "if n1<n2 and n2<n3:\n",
    "    print(\"N1 is smallest \",n1)\n",
    "elif n2<n3:\n",
    "    print(\"N2 is smallest Number\",n2)\n",
    "else:\n",
    "    print(\"N3 \",n3)"
   ]
  },
  {
   "cell_type": "code",
   "execution_count": 6,
   "metadata": {},
   "outputs": [
    {
     "name": "stdout",
     "output_type": "stream",
     "text": [
      "First Number: 12\n",
      "Second Number: 12\n",
      "Number lies between N1 and N2\n"
     ]
    }
   ],
   "source": [
    "n1 = int(input(\"First Number: \"))\n",
    "n2 = int(input(\"Second Number: \"))\n",
    "\n",
    "if n1>=1 and n2<=100:\n",
    "    print(\"Number lies between N1 and N2\")\n",
    "    \n",
    "else:\n",
    "    print(\"Not lies Between\")\n"
   ]
  },
  {
   "cell_type": "code",
   "execution_count": 7,
   "metadata": {},
   "outputs": [
    {
     "name": "stdout",
     "output_type": "stream",
     "text": [
      "Hello World Python"
     ]
    }
   ],
   "source": [
    "s = \"Hello World Python\"\n",
    "for i in s:\n",
    "    print(i,end=\"\")"
   ]
  },
  {
   "cell_type": "code",
   "execution_count": 8,
   "metadata": {},
   "outputs": [
    {
     "name": "stdout",
     "output_type": "stream",
     "text": [
      "Hello\n",
      "Hello\n",
      "Hello\n",
      "Hello\n",
      "Hello\n",
      "Hello\n",
      "Hello\n",
      "Hello\n",
      "Hello\n",
      "Hello\n",
      "Hello\n"
     ]
    }
   ],
   "source": [
    "for x in range(11):\n",
    "    print(\"Hello\")"
   ]
  },
  {
   "cell_type": "code",
   "execution_count": 9,
   "metadata": {},
   "outputs": [
    {
     "name": "stdout",
     "output_type": "stream",
     "text": [
      "0 Hello\n",
      "1 Hello\n",
      "2 Hello\n",
      "3 Hello\n",
      "4 Hello\n",
      "5 Hello\n",
      "6 Hello\n",
      "7 Hello\n",
      "8 Hello\n",
      "9 Hello\n",
      "10 Hello\n"
     ]
    }
   ],
   "source": [
    "for x in range(11):\n",
    "    print(x,\"Hello\")"
   ]
  },
  {
   "cell_type": "code",
   "execution_count": 10,
   "metadata": {},
   "outputs": [
    {
     "name": "stdout",
     "output_type": "stream",
     "text": [
      "Odd Number 1\n",
      "Odd Number 3\n",
      "Odd Number 5\n",
      "Odd Number 7\n",
      "Odd Number 9\n",
      "Odd Number 11\n",
      "Odd Number 13\n",
      "Odd Number 15\n",
      "Odd Number 17\n",
      "Odd Number 19\n"
     ]
    }
   ],
   "source": [
    "for x in range(20):\n",
    "    if x%2!=0:\n",
    "        print(\"Odd Number\",x)\n",
    "    \n",
    "    "
   ]
  },
  {
   "cell_type": "code",
   "execution_count": 12,
   "metadata": {},
   "outputs": [
    {
     "name": "stdout",
     "output_type": "stream",
     "text": [
      "Enter List:12,34,54\n",
      "Sum: 100\n"
     ]
    }
   ],
   "source": [
    "list = eval(input(\"Enter List:\"))\n",
    "\n",
    "sum = 0\n",
    "for i in list:\n",
    "    sum = sum+i\n",
    "print(\"Sum:\",sum)"
   ]
  },
  {
   "cell_type": "code",
   "execution_count": 17,
   "metadata": {},
   "outputs": [
    {
     "name": "stdout",
     "output_type": "stream",
     "text": [
      "1\n",
      "2\n",
      "3\n",
      "4\n",
      "5\n",
      "6\n",
      "7\n",
      "8\n",
      "9\n",
      "10\n"
     ]
    }
   ],
   "source": [
    "x = 1\n",
    "while x<=10:\n",
    "    print(x)\n",
    "    x = x+1"
   ]
  },
  {
   "cell_type": "code",
   "execution_count": null,
   "metadata": {},
   "outputs": [],
   "source": []
  }
 ],
 "metadata": {
  "kernelspec": {
   "display_name": "Python 3",
   "language": "python",
   "name": "python3"
  },
  "language_info": {
   "codemirror_mode": {
    "name": "ipython",
    "version": 3
   },
   "file_extension": ".py",
   "mimetype": "text/x-python",
   "name": "python",
   "nbconvert_exporter": "python",
   "pygments_lexer": "ipython3",
   "version": "3.7.6"
  }
 },
 "nbformat": 4,
 "nbformat_minor": 4
}
